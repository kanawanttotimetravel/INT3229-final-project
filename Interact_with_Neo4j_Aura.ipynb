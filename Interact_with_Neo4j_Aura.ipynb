{
  "nbformat": 4,
  "nbformat_minor": 0,
  "metadata": {
    "colab": {
      "provenance": [],
      "include_colab_link": true
    },
    "kernelspec": {
      "name": "python3",
      "display_name": "Python 3"
    },
    "language_info": {
      "name": "python"
    }
  },
  "cells": [
    {
      "cell_type": "markdown",
      "metadata": {
        "id": "view-in-github",
        "colab_type": "text"
      },
      "source": [
        "<a href=\"https://colab.research.google.com/github/kanawanttotimetravel/INT3229-final-project/blob/main/Interact_with_Neo4j_Aura.ipynb\" target=\"_parent\"><img src=\"https://colab.research.google.com/assets/colab-badge.svg\" alt=\"Open In Colab\"/></a>"
      ]
    },
    {
      "cell_type": "markdown",
      "source": [
        "# Configure Neo4j Aura parameters"
      ],
      "metadata": {
        "id": "JBkTJMoY_J6B"
      }
    },
    {
      "cell_type": "code",
      "execution_count": null,
      "metadata": {
        "id": "ttxf62TPVP-w"
      },
      "outputs": [],
      "source": [
        "neo4j_url = \"neo4j+s://14efed30.databases.neo4j.io\"\n",
        "neo4j_user = \"neo4j\"\n",
        "neo4j_password = \"2q4226dEap8hs-dev1bMMbVgMC4ZJ6YUwrMXcF57fFI\""
      ]
    },
    {
      "cell_type": "markdown",
      "source": [
        "# Configure the Spark Environment"
      ],
      "metadata": {
        "id": "Capd99x5G2rm"
      }
    },
    {
      "cell_type": "code",
      "source": [
        "spark_version = '3.4.4'"
      ],
      "metadata": {
        "id": "OiHMiko1-Qf7"
      },
      "execution_count": null,
      "outputs": []
    },
    {
      "cell_type": "code",
      "source": [
        "!apt-get install openjdk-17-jdk-headless -qq > /dev/null"
      ],
      "metadata": {
        "id": "qdjzLBDzGx5l"
      },
      "execution_count": null,
      "outputs": []
    },
    {
      "cell_type": "code",
      "source": [
        "!wget -q https://dlcdn.apache.org/spark/spark-$spark_version/spark-$spark_version-bin-hadoop3.tgz"
      ],
      "metadata": {
        "id": "7JT9OKhzG7Lq"
      },
      "execution_count": null,
      "outputs": []
    },
    {
      "cell_type": "code",
      "execution_count": null,
      "metadata": {
        "id": "A3gsnSHl0F99"
      },
      "outputs": [],
      "source": [
        "!tar xf spark-$spark_version-bin-hadoop3.tgz"
      ]
    },
    {
      "cell_type": "code",
      "execution_count": null,
      "metadata": {
        "id": "hSBQWKs90vSx"
      },
      "outputs": [],
      "source": [
        "!pip install -q findspark"
      ]
    },
    {
      "cell_type": "code",
      "execution_count": null,
      "metadata": {
        "id": "tnW0a1Gj080k"
      },
      "outputs": [],
      "source": [
        "import os\n",
        "os.environ[\"JAVA_HOME\"] = \"/usr/lib/jvm/java-17-openjdk-amd64\"\n",
        "os.environ[\"SPARK_HOME\"] = f\"/content/spark-{spark_version}-bin-hadoop3\""
      ]
    },
    {
      "cell_type": "markdown",
      "source": [
        "# Create Spark Session"
      ],
      "metadata": {
        "id": "NEycz6DX_C2w"
      }
    },
    {
      "cell_type": "code",
      "execution_count": null,
      "metadata": {
        "id": "dlUBSezK1DpZ"
      },
      "outputs": [],
      "source": [
        "import findspark\n",
        "findspark.init()"
      ]
    },
    {
      "cell_type": "code",
      "execution_count": null,
      "metadata": {
        "id": "dOUJ-W871Tur",
        "colab": {
          "base_uri": "https://localhost:8080/",
          "height": 219
        },
        "outputId": "b4fbfbd2-ec07-4e02-91a9-cf34f206eb48"
      },
      "outputs": [
        {
          "output_type": "execute_result",
          "data": {
            "text/plain": [
              "<pyspark.sql.session.SparkSession at 0x7e3929704760>"
            ],
            "text/html": [
              "\n",
              "            <div>\n",
              "                <p><b>SparkSession - in-memory</b></p>\n",
              "                \n",
              "        <div>\n",
              "            <p><b>SparkContext</b></p>\n",
              "\n",
              "            <p><a href=\"http://632f236d15f5:4050\">Spark UI</a></p>\n",
              "\n",
              "            <dl>\n",
              "              <dt>Version</dt>\n",
              "                <dd><code>v3.4.4</code></dd>\n",
              "              <dt>Master</dt>\n",
              "                <dd><code>local[*]</code></dd>\n",
              "              <dt>AppName</dt>\n",
              "                <dd><code>Data science workflow with Neo4j and Spark</code></dd>\n",
              "            </dl>\n",
              "        </div>\n",
              "        \n",
              "            </div>\n",
              "        "
            ]
          },
          "metadata": {},
          "execution_count": 9
        }
      ],
      "source": [
        "from pyspark.sql import SparkSession\n",
        "spark = (SparkSession.builder\n",
        "        .master('local[*]')\n",
        "        .appName('Data science workflow with Neo4j and Spark')\n",
        "        .config('spark.ui.port', '4050')\n",
        "        # Just to show dataframes as tables\n",
        "        #.config('spark.sql.repl.eagerEval.enabled', False)\n",
        "        .config('spark.jars.packages', 'org.neo4j:neo4j-connector-apache-spark_2.12:5.1.0_for_spark_3')\n",
        "        # As we're using always the same database instance we'll\n",
        "        # define them as global variables\n",
        "        # so we don't need to repeat them each time\n",
        "        .config(\"neo4j.url\", neo4j_url)\n",
        "        .config(\"neo4j.authentication.type\", \"basic\")\n",
        "        .config(\"neo4j.authentication.basic.username\", neo4j_user)\n",
        "        .config(\"neo4j.authentication.basic.password\", neo4j_password)\n",
        "        .getOrCreate())\n",
        "spark"
      ]
    },
    {
      "cell_type": "code",
      "source": [
        "# import utility functions that we'll use in the notebook\n",
        "from pyspark.sql.types import *\n",
        "from pyspark.sql.functions import *"
      ],
      "metadata": {
        "id": "pghCcGnJWcZQ"
      },
      "execution_count": null,
      "outputs": []
    },
    {
      "cell_type": "markdown",
      "source": [
        "# Run the queries"
      ],
      "metadata": {
        "id": "lS7XXFyN_dvp"
      }
    },
    {
      "cell_type": "code",
      "source": [
        "# Must run on neo4j\n",
        "constraint_query = \"\"\"\n",
        "CREATE CONSTRAINT FOR (u:User) REQUIRE u.id IS UNIQUE\n",
        "CREATE CONSTRAINT FOR (t:Team) REQUIRE t.id IS UNIQUE\n",
        "CREATE CONSTRAINT FOR (c:TeamChatSession) REQUIRE c.id IS UNIQUE\n",
        "CREATE CONSTRAINT FOR (i:ChatItem) REQUIRE i.id IS UNIQUE\"\"\""
      ],
      "metadata": {
        "id": "hcBzcXdJOcin"
      },
      "execution_count": null,
      "outputs": []
    },
    {
      "cell_type": "code",
      "source": [
        "def execute_write_cypher_query(query):\n",
        "    try :\n",
        "        # Create a dummy DataFrame. This dataframe's purpose is purely to execute write queries\n",
        "        df = spark.createDataFrame([(\"dummy\",)], [\"col\"])\n",
        "        df.write.format(\"org.neo4j.spark.DataSource\") \\\n",
        "            .option(\"url\", neo4j_url) \\\n",
        "            .option(\"authentication.basic.username\", neo4j_user) \\\n",
        "            .option(\"authentication.basic.password\", neo4j_password) \\\n",
        "            .option(\"query\", query) \\\n",
        "            .mode(\"overwrite\") \\\n",
        "            .save()\n",
        "        df.show()\n",
        "    except Exception as e:\n",
        "        print(f\"Error executing query: {e}\")"
      ],
      "metadata": {
        "id": "K9T7kdZRhe4O"
      },
      "execution_count": null,
      "outputs": []
    },
    {
      "cell_type": "code",
      "source": [
        "def execute_read_cypher_query(query):\n",
        "    try:\n",
        "        result_df = spark.read.format(\"org.neo4j.spark.DataSource\") \\\n",
        "            .option(\"url\", neo4j_url) \\\n",
        "            .option(\"authentication.basic.username\", neo4j_user) \\\n",
        "            .option(\"authentication.basic.password\", neo4j_password) \\\n",
        "            .option(\"query\", query) \\\n",
        "            .load()\n",
        "        result_df.limit(10).show()\n",
        "    except Exception as e:\n",
        "        print(f\"Error executing query: {e}\")"
      ],
      "metadata": {
        "id": "-zEZ7MnYhDZu"
      },
      "execution_count": null,
      "outputs": []
    },
    {
      "cell_type": "code",
      "source": [
        "chat_create_team_chat_queries = \"\"\"LOAD CSV FROM \"https://raw.githubusercontent.com/kanawanttotimetravel/INT3229-final-project/refs/heads/main/chat_data/chat_create_team_chat.csv\" AS row\n",
        "MERGE (u:User {id: toInteger(row[0])})\n",
        "MERGE (t:Team {id: toInteger(row[1])})\n",
        "MERGE (c:TeamChatSession {id: toInteger(row[2])})\n",
        "MERGE (u)-[:CreatesSession {timeStamp: row[3]}]->(c)\n",
        "MERGE (c)-[:OwnedBy {timeStamp: row[3]}]->(t)\"\"\"\n",
        "\n",
        "execute_write_cypher_query(chat_create_team_chat_queries)"
      ],
      "metadata": {
        "colab": {
          "base_uri": "https://localhost:8080/"
        },
        "id": "bK9hiOpAf-rW",
        "outputId": "e0e65b25-cca8-49ed-ade3-6b44f8868939"
      },
      "execution_count": null,
      "outputs": [
        {
          "output_type": "stream",
          "name": "stdout",
          "text": [
            "+-----+\n",
            "|  col|\n",
            "+-----+\n",
            "|dummy|\n",
            "+-----+\n",
            "\n"
          ]
        }
      ]
    },
    {
      "cell_type": "code",
      "source": [
        "# must run on neo4j\n",
        "chat_item_team_chat_query = \"\"\"\n",
        "CALL apoc.periodic.iterate('LOAD CSV FROM \"https://raw.githubusercontent.com/kanawanttotimetravel/INT3229-final-project/refs/heads/main/chat_data/chat_item_team_chat.csv\" AS row RETURN row',\n",
        "'MERGE (u:User {id: toInteger(row[0])})\n",
        "MERGE (t:TeamChatSession {id: toInteger(row[1])})\n",
        "MERGE (c:ChatItem {id: toInteger(row[2])})\n",
        "MERGE (u)-[:CreatesChat {timeStamp: row[3]}]->(c)\n",
        "MERGE (c)-[:PartOf {timeStamp: row[3]}]->(t)', {batchSize:1000})\n",
        "\"\"\"\n",
        "\n",
        "# Can't run with spark\n",
        "# execute_write_cypher_query(chat_item_team_chat_query)"
      ],
      "metadata": {
        "colab": {
          "base_uri": "https://localhost:8080/"
        },
        "id": "o_UG2SU5mlQY",
        "outputId": "902c22ee-f1cf-4f53-b896-2a7fef5e4769"
      },
      "execution_count": null,
      "outputs": [
        {
          "output_type": "stream",
          "name": "stdout",
          "text": [
            "Error executing query: Please provide a valid WRITE query\n"
          ]
        }
      ]
    },
    {
      "cell_type": "code",
      "source": [
        "chat_join_team_chat_query = \"\"\"LOAD CSV FROM \"https://raw.githubusercontent.com/kanawanttotimetravel/INT3229-final-project/refs/heads/main/chat_data/chat_join_team_chat.csv\" AS row\n",
        "MERGE (u:User {id: toInteger(row[0])})\n",
        "MERGE (c:TeamChatSession {id: toInteger(row[1])})\n",
        "MERGE (u)-[:Joins {timeStamp: row[2]}]->(c)\"\"\"\n",
        "\n",
        "execute_write_cypher_query(chat_join_team_chat_query)"
      ],
      "metadata": {
        "colab": {
          "base_uri": "https://localhost:8080/"
        },
        "id": "qkTqomjwmpjB",
        "outputId": "f23f813d-b123-43e9-a2fc-612dba3bd8d9"
      },
      "execution_count": null,
      "outputs": [
        {
          "output_type": "stream",
          "name": "stdout",
          "text": [
            "+-----+\n",
            "|  col|\n",
            "+-----+\n",
            "|dummy|\n",
            "+-----+\n",
            "\n"
          ]
        }
      ]
    },
    {
      "cell_type": "code",
      "source": [
        "chat_leave_team_chat_query = \"\"\"LOAD CSV FROM \"https://raw.githubusercontent.com/kanawanttotimetravel/INT3229-final-project/refs/heads/main/chat_data/chat_leave_team_chat.csv\" AS row\n",
        "MERGE (u:User {id: toInteger(row[0])})\n",
        "MERGE (c:TeamChatSession {id: toInteger(row[1])})\n",
        "MERGE (u)-[:Leaves {timeStamp: row[2]}]->(c)\"\"\"\n",
        "\n",
        "execute_write_cypher_query(chat_leave_team_chat_query)"
      ],
      "metadata": {
        "colab": {
          "base_uri": "https://localhost:8080/"
        },
        "id": "ht3YvCn5mrNo",
        "outputId": "96d30257-fae8-43c2-e6db-f375842f7bb7"
      },
      "execution_count": null,
      "outputs": [
        {
          "output_type": "stream",
          "name": "stdout",
          "text": [
            "+-----+\n",
            "|  col|\n",
            "+-----+\n",
            "|dummy|\n",
            "+-----+\n",
            "\n"
          ]
        }
      ]
    },
    {
      "cell_type": "code",
      "source": [
        "chat_mention_team_chat_query = \"\"\"LOAD CSV FROM \"https://raw.githubusercontent.com/kanawanttotimetravel/INT3229-final-project/refs/heads/main/chat_data/chat_mention_team_chat.csv\" AS row\n",
        "MERGE (c:ChatItem {id: toInteger(row[0])})\n",
        "MERGE (u:User {id: toInteger(row[1])})\n",
        "MERGE (c)-[:Mentioned {timeStamp: row[2]}]->(u)\"\"\"\n",
        "\n",
        "execute_write_cypher_query(chat_mention_team_chat_query)"
      ],
      "metadata": {
        "colab": {
          "base_uri": "https://localhost:8080/"
        },
        "id": "4xawbtkImsjp",
        "outputId": "6bd60fbc-02a9-4bc0-b183-542dfa6e7dbd"
      },
      "execution_count": null,
      "outputs": [
        {
          "output_type": "stream",
          "name": "stdout",
          "text": [
            "+-----+\n",
            "|  col|\n",
            "+-----+\n",
            "|dummy|\n",
            "+-----+\n",
            "\n"
          ]
        }
      ]
    },
    {
      "cell_type": "code",
      "source": [
        "chat_respond_team_chat_query = \"\"\"LOAD CSV FROM \"https://raw.githubusercontent.com/kanawanttotimetravel/INT3229-final-project/refs/heads/main/chat_data/chat_respond_team_chat.csv\" AS row\n",
        "MERGE (c1:ChatItem {id: toInteger(row[0])})\n",
        "MERGE (c2:ChatItem {id: toInteger(row[1])})\n",
        "MERGE (c1)-[:ResponseTo {timeStamp: row[2]}]->(c2)\"\"\"\n",
        "\n",
        "execute_write_cypher_query(chat_respond_team_chat_query)"
      ],
      "metadata": {
        "colab": {
          "base_uri": "https://localhost:8080/"
        },
        "id": "pLpPRaSmmw26",
        "outputId": "e394f6ed-f602-43e0-86d7-9f7ad69c79a7"
      },
      "execution_count": null,
      "outputs": [
        {
          "output_type": "stream",
          "name": "stdout",
          "text": [
            "+-----+\n",
            "|  col|\n",
            "+-----+\n",
            "|dummy|\n",
            "+-----+\n",
            "\n"
          ]
        }
      ]
    },
    {
      "cell_type": "code",
      "source": [
        "# Check node\n",
        "check_node_query = \"MATCH (n) RETURN COUNT(n) AS NumberOfNode\"\n",
        "\n",
        "execute_read_cypher_query(check_node_query)"
      ],
      "metadata": {
        "colab": {
          "base_uri": "https://localhost:8080/"
        },
        "id": "aCO9VSHalwhr",
        "outputId": "72de93e2-4e25-43f6-eeb3-5a4c08ebb3c1"
      },
      "execution_count": null,
      "outputs": [
        {
          "output_type": "stream",
          "name": "stdout",
          "text": [
            "+------------+\n",
            "|NumberOfNode|\n",
            "+------------+\n",
            "|       45463|\n",
            "+------------+\n",
            "\n"
          ]
        }
      ]
    },
    {
      "cell_type": "code",
      "source": [
        "check_edge_query = \"MATCH()-[r]->() RETURN COUNT(r) AS numberOfEdges\"\n",
        "\n",
        "execute_read_cypher_query(check_edge_query)"
      ],
      "metadata": {
        "colab": {
          "base_uri": "https://localhost:8080/"
        },
        "id": "GHJGR4LdO23J",
        "outputId": "d9f86f73-37e7-41ef-ea97-ddddeb76f5b4"
      },
      "execution_count": null,
      "outputs": [
        {
          "output_type": "stream",
          "name": "stdout",
          "text": [
            "+-------------+\n",
            "|numberOfEdges|\n",
            "+-------------+\n",
            "|       118502|\n",
            "+-------------+\n",
            "\n"
          ]
        }
      ]
    },
    {
      "cell_type": "code",
      "source": [
        "query_Q1_a = \"\"\"MATCH p=(start:ChatItem)-[:ResponseTo*]->(end:ChatItem)\n",
        "WITH p, length(p) AS length\n",
        "ORDER BY length DESC\n",
        "WITH nodes(p) AS longestChain, length AS longestChainLength\n",
        "LIMIT 1\n",
        "RETURN longestChain, longestChainLength\n",
        "\"\"\"\n",
        "\n",
        "execute_read_cypher_query(query=query_Q1_a)"
      ],
      "metadata": {
        "colab": {
          "base_uri": "https://localhost:8080/"
        },
        "id": "tANrQacwPAkK",
        "outputId": "a20ca9d7-9b71-4d20-db7e-337a13f0646c"
      },
      "execution_count": null,
      "outputs": [
        {
          "output_type": "stream",
          "name": "stdout",
          "text": [
            "+--------------------+------------------+\n",
            "|        longestChain|longestChainLength|\n",
            "+--------------------+------------------+\n",
            "|[{7364, [ChatItem...|                 9|\n",
            "+--------------------+------------------+\n",
            "\n"
          ]
        }
      ]
    },
    {
      "cell_type": "code",
      "source": [
        "query_Q1_b = \"\"\"MATCH p=(start:ChatItem)-[:ResponseTo*]->(end:ChatItem)\n",
        "WITH length(p) AS longestChainLength\n",
        "ORDER BY longestChainLength DESC\n",
        "LIMIT 1\n",
        "\n",
        "// Find all paths with this length\n",
        "MATCH p=(start:ChatItem)-[:ResponseTo*]->(end:ChatItem)\n",
        "WHERE length(p) = longestChainLength\n",
        "WITH p\n",
        "\n",
        "// Extract users involved in these paths\n",
        "MATCH (u:User)-[:CreatesChat]->(ci:ChatItem)\n",
        "WHERE ci IN nodes(p)\n",
        "RETURN count(distinct u) AS numberOfUsers\"\"\"\n",
        "\n",
        "execute_read_cypher_query(query_Q1_b)"
      ],
      "metadata": {
        "colab": {
          "base_uri": "https://localhost:8080/"
        },
        "id": "ISSu4aqXPE44",
        "outputId": "afdc7142-eaad-4e75-b67a-91e09bf34a0b"
      },
      "execution_count": null,
      "outputs": [
        {
          "output_type": "stream",
          "name": "stdout",
          "text": [
            "+-------------+\n",
            "|numberOfUsers|\n",
            "+-------------+\n",
            "|            5|\n",
            "+-------------+\n",
            "\n"
          ]
        }
      ]
    },
    {
      "cell_type": "code",
      "source": [
        "query_Q2_a = \"\"\"MATCH (u:User)-[:CreatesChat]->(c:ChatItem)\n",
        "RETURN u.id AS userId, count(c) AS chatCount\n",
        "ORDER BY chatCount DESC\n",
        "\"\"\"\n",
        "\n",
        "execute_read_cypher_query(query_Q2_a)"
      ],
      "metadata": {
        "colab": {
          "base_uri": "https://localhost:8080/"
        },
        "id": "ugITV7_BPMbm",
        "outputId": "09e36507-1b89-4f58-ac67-db4862fcc758"
      },
      "execution_count": null,
      "outputs": [
        {
          "output_type": "stream",
          "name": "stdout",
          "text": [
            "+------+---------+\n",
            "|userId|chatCount|\n",
            "+------+---------+\n",
            "|   394|      115|\n",
            "|  2067|      111|\n",
            "|   209|      109|\n",
            "|  1087|      109|\n",
            "|   554|      107|\n",
            "|   999|      105|\n",
            "|   516|      105|\n",
            "|  1627|      105|\n",
            "|   668|      104|\n",
            "|   461|      104|\n",
            "+------+---------+\n",
            "\n"
          ]
        }
      ]
    },
    {
      "cell_type": "code",
      "source": [
        "query_Q2_b = \"\"\"MATCH (ci:ChatItem)-[:PartOf]->(tcs:TeamChatSession)-[:OwnedBy]->(t:Team)\n",
        "RETURN t.id AS teamId, count(ci) AS chatCount\n",
        "ORDER BY chatCount DESC\n",
        "\"\"\"\n",
        "\n",
        "execute_read_cypher_query(query_Q2_b)"
      ],
      "metadata": {
        "colab": {
          "base_uri": "https://localhost:8080/"
        },
        "id": "amAbFOBTPPA7",
        "outputId": "4232e274-bf7b-45ea-9b66-b3350ada19dc"
      },
      "execution_count": null,
      "outputs": [
        {
          "output_type": "stream",
          "name": "stdout",
          "text": [
            "+------+---------+\n",
            "|teamId|chatCount|\n",
            "+------+---------+\n",
            "|    82|     1324|\n",
            "|   185|     1036|\n",
            "|   112|      957|\n",
            "|    18|      844|\n",
            "|   194|      836|\n",
            "|   129|      814|\n",
            "|    52|      788|\n",
            "|   136|      783|\n",
            "|   146|      746|\n",
            "|    81|      736|\n",
            "+------+---------+\n",
            "\n"
          ]
        }
      ]
    },
    {
      "cell_type": "code",
      "source": [
        "query_Q2_c = \"\"\"\n",
        "// Identify top 10 chattiest users\n",
        "WITH [394, 2067, 1087, 209, 554, 1627, 516, 999, 668, 461] AS topChattiestUsers\n",
        "\n",
        "// Identify top 10 chattiest teams\n",
        "WITH topChattiestUsers, [82, 185, 112, 18, 194, 129, 52, 136, 146, 81] AS topChattiestTeams\n",
        "\n",
        "// Find users who belong to the top chattiest teams\n",
        "MATCH (u:User)-[:CreatesChat]->(:ChatItem)-[:PartOf]->(:TeamChatSession)-[:OwnedBy]->(t:Team)\n",
        "WHERE u.id IN topChattiestUsers\n",
        "AND t.id IN topChattiestTeams\n",
        "RETURN DISTINCT u.id AS User, t.id AS Team\"\"\"\n",
        "\n",
        "execute_read_cypher_query(query_Q2_c)"
      ],
      "metadata": {
        "colab": {
          "base_uri": "https://localhost:8080/"
        },
        "id": "YbtGFdIEQC6j",
        "outputId": "f31c5a30-db5f-4e90-c2c8-d9143f1eae24"
      },
      "execution_count": null,
      "outputs": [
        {
          "output_type": "stream",
          "name": "stdout",
          "text": [
            "+----+----+\n",
            "|User|Team|\n",
            "+----+----+\n",
            "| 999|  52|\n",
            "+----+----+\n",
            "\n"
          ]
        }
      ]
    },
    {
      "cell_type": "code",
      "source": [
        "query_Q3_a = \"\"\"MATCH (u1:User)-[:CreatesChat]->(:ChatItem)-[:Mentioned]->(u2:User)\n",
        "CREATE (u1)-[:InteractsWith]->(u2)\n",
        "UNION\n",
        "MATCH (u1:User)-[:CreatesChat]->(:ChatItem)-[:ResponseTo]->(:ChatItem)<-[:CreatesChat]-(u2:User)\n",
        "CREATE (u1)-[:InteractsWith]->(u2)\n",
        "UNION\n",
        "MATCH (u:User)-[r:InteractsWith]->(u)\n",
        "DELETE r;\n",
        "\"\"\"\n",
        "execute_write_cypher_query(query_Q3_a)"
      ],
      "metadata": {
        "colab": {
          "base_uri": "https://localhost:8080/"
        },
        "id": "kmYXLqp9QGpN",
        "outputId": "2e0801a9-e687-4502-d1c5-780fe45b08ce"
      },
      "execution_count": null,
      "outputs": [
        {
          "output_type": "stream",
          "name": "stdout",
          "text": [
            "+-----+\n",
            "|  col|\n",
            "+-----+\n",
            "|dummy|\n",
            "+-----+\n",
            "\n"
          ]
        }
      ]
    },
    {
      "cell_type": "code",
      "source": [
        "query_Q3_b = \"\"\"MATCH (u:User)-[c:CreatesChat]->()\n",
        "WITH u, COUNT(c) as Chats\n",
        "ORDER BY Chats DESC LIMIT 10 WITH [u] as ChattiestUsers\n",
        "//Getting the neighbours of all Users and the count\n",
        "MATCH (u1:User)-[:InteractsWith]->(u2:User)\n",
        "WHERE u1 in ChattiestUsers\n",
        "WITH u1.id AS UserID, COLLECT(DISTINCT u2.id) AS Neighbours RETURN UserID, Neighbours, SIZE(Neighbours) AS k\"\"\"\n",
        "\n",
        "execute_read_cypher_query(query_Q3_b)"
      ],
      "metadata": {
        "colab": {
          "base_uri": "https://localhost:8080/"
        },
        "id": "qsaH1_lYQKja",
        "outputId": "5568f05b-1751-49b8-f7ce-66e287dcf8ab"
      },
      "execution_count": null,
      "outputs": [
        {
          "output_type": "stream",
          "name": "stdout",
          "text": [
            "+------+--------------------+---+\n",
            "|UserID|          Neighbours|  k|\n",
            "+------+--------------------+---+\n",
            "|   394|[1012, 2011, 1997...|  4|\n",
            "|  2067|[516, 209, 1627, ...|  6|\n",
            "|   209|[516, 1627, 63, 2...|  5|\n",
            "|  1087|[1311, 426, 929, ...|  6|\n",
            "|   554|[1959, 1687, 2018...|  5|\n",
            "|   999|[1554, 1506, 1398...|  8|\n",
            "|   516|[209, 1627, 63, 2...|  6|\n",
            "|  1627|[516, 209, 63, 20...|  6|\n",
            "|   668|    [698, 2034, 648]|  3|\n",
            "|   461|   [1482, 1675, 482]|  3|\n",
            "+------+--------------------+---+\n",
            "\n"
          ]
        }
      ]
    },
    {
      "cell_type": "code",
      "source": [
        "query_Q3_c = \"\"\"// Getting TOP 10 Chattiest Users\n",
        "MATCH (u:User)-[c:CreatesChat]->()\n",
        "WITH u, COUNT(c) AS Chats\n",
        "ORDER BY Chats DESC\n",
        "LIMIT 10\n",
        "WITH COLLECT(u) AS ChattiestUsers\n",
        "\n",
        "// Getting the neighbours of TOP 10 Users and the count\n",
        "MATCH (u1:User)-[:InteractsWith]->(u2:User)\n",
        "WHERE u1 IN ChattiestUsers\n",
        "WITH u1.id AS UserID, COLLECT(DISTINCT u2.id) AS Neighbours, SIZE(COLLECT(DISTINCT u2.id)) AS k\n",
        "\n",
        "// Find Intersecting Users\n",
        "MATCH (u1:User)-[:InteractsWith]->(u2:User)\n",
        "// Such that both belong in Neighbours list\n",
        "WHERE u1.id IN Neighbours AND u2.id IN Neighbours\n",
        "// For every valid combination of a User and its two neighbours,\n",
        "// Value is 1 if neighbours have interacted at least once, k is no. of Neighbours\n",
        "WITH DISTINCT UserID, u1.id AS N1, u2.id AS N2, CASE WHEN (u1)-[:InteractsWith]->(u2) THEN 1 ELSE 0 END AS VALUE, k\n",
        "WITH UserID, SUM(VALUE) AS NUM, k, k*(k-1) AS DENUM\n",
        "RETURN UserID, NUM, DENUM, NUM/(DENUM*1.0) AS ClusteringCoefficient\n",
        "ORDER BY ClusteringCoefficient DESC\"\"\"\n",
        "\n",
        "execute_read_cypher_query(query_Q3_c)"
      ],
      "metadata": {
        "colab": {
          "base_uri": "https://localhost:8080/"
        },
        "id": "0vaxqEzEQMbJ",
        "outputId": "b90f9bce-0dbb-4869-a1cf-fb6094642234"
      },
      "execution_count": null,
      "outputs": [
        {
          "output_type": "stream",
          "name": "stdout",
          "text": [
            "+------+---+-----+---------------------+\n",
            "|UserID|NUM|DENUM|ClusteringCoefficient|\n",
            "+------+---+-----+---------------------+\n",
            "|   668|  6|    6|                  1.0|\n",
            "|   209| 20|   20|                  1.0|\n",
            "|   999| 53|   56|   0.9464285714285714|\n",
            "|   516| 28|   30|   0.9333333333333333|\n",
            "|  1627| 28|   30|   0.9333333333333333|\n",
            "|  2067| 28|   30|   0.9333333333333333|\n",
            "|   461|  5|    6|   0.8333333333333334|\n",
            "|   554| 16|   20|                  0.8|\n",
            "|   394|  9|   12|                 0.75|\n",
            "|  1087| 22|   30|   0.7333333333333333|\n",
            "+------+---+-----+---------------------+\n",
            "\n"
          ]
        }
      ]
    },
    {
      "cell_type": "markdown",
      "source": [
        "# Interact with neo4j python"
      ],
      "metadata": {
        "id": "DbRRabSrCiS9"
      }
    },
    {
      "cell_type": "code",
      "source": [
        "!pip install neo4j"
      ],
      "metadata": {
        "colab": {
          "base_uri": "https://localhost:8080/"
        },
        "id": "R2V5TUmyCxFl",
        "outputId": "264aa755-a785-4ba6-9ad8-a1c7b60dc63b"
      },
      "execution_count": null,
      "outputs": [
        {
          "output_type": "stream",
          "name": "stdout",
          "text": [
            "Collecting neo4j\n",
            "  Downloading neo4j-5.27.0-py3-none-any.whl.metadata (5.9 kB)\n",
            "Requirement already satisfied: pytz in /usr/local/lib/python3.10/dist-packages (from neo4j) (2024.2)\n",
            "Downloading neo4j-5.27.0-py3-none-any.whl (301 kB)\n",
            "\u001b[2K   \u001b[90m━━━━━━━━━━━━━━━━━━━━━━━━━━━━━━━━━━━━━━━━\u001b[0m \u001b[32m301.7/301.7 kB\u001b[0m \u001b[31m4.6 MB/s\u001b[0m eta \u001b[36m0:00:00\u001b[0m\n",
            "\u001b[?25hInstalling collected packages: neo4j\n",
            "Successfully installed neo4j-5.27.0\n"
          ]
        }
      ]
    },
    {
      "cell_type": "code",
      "source": [
        "from neo4j import GraphDatabase\n",
        "import pandas as pd"
      ],
      "metadata": {
        "id": "y--jwPt9YJGt"
      },
      "execution_count": null,
      "outputs": []
    },
    {
      "cell_type": "code",
      "source": [
        "class Neo4jConnection:\n",
        "    def __init__(self, uri, user, password):\n",
        "        self.driver = GraphDatabase.driver(uri, auth=(user, password))\n",
        "\n",
        "    def close(self):\n",
        "        self.driver.close()\n",
        "\n",
        "    def query(self, query, parameters=None):\n",
        "        with self.driver.session() as session:\n",
        "            result = session.run(query, parameters)\n",
        "            return [record.data() for record in result]"
      ],
      "metadata": {
        "id": "dVBkkPbRChh2"
      },
      "execution_count": null,
      "outputs": []
    },
    {
      "cell_type": "code",
      "source": [
        "conn = Neo4jConnection(neo4j_url, neo4j_user, neo4j_password)"
      ],
      "metadata": {
        "id": "zLPw6sG0DASt"
      },
      "execution_count": null,
      "outputs": []
    },
    {
      "cell_type": "code",
      "source": [
        "que = \"MATCH (n) RETURN COUNT(n) AS NumberOfNode\"\n",
        "result = conn.query(que)\n",
        "result"
      ],
      "metadata": {
        "colab": {
          "base_uri": "https://localhost:8080/"
        },
        "id": "NBu-DjiZDK8e",
        "outputId": "7f5fb75a-e73d-4c39-e8c8-f97262aa5a1f"
      },
      "execution_count": null,
      "outputs": [
        {
          "output_type": "execute_result",
          "data": {
            "text/plain": [
              "[{'NumberOfNode': 45463}]"
            ]
          },
          "metadata": {},
          "execution_count": 12
        }
      ]
    },
    {
      "cell_type": "code",
      "source": [
        "que = \"MATCH ()-[e]->() RETURN COUNT(e) AS NumberOfEdges\"\n",
        "result = conn.query(que)\n",
        "result"
      ],
      "metadata": {
        "colab": {
          "base_uri": "https://localhost:8080/"
        },
        "id": "7z_nv2MnTbT1",
        "outputId": "434c8738-ead3-46fb-eac3-e23e662a3303"
      },
      "execution_count": null,
      "outputs": [
        {
          "output_type": "execute_result",
          "data": {
            "text/plain": [
              "[{'NumberOfEdges': 145167}]"
            ]
          },
          "metadata": {},
          "execution_count": 14
        }
      ]
    },
    {
      "cell_type": "code",
      "source": [
        "create_interact_query_mention = \"\"\"\n",
        "MATCH (u1:User)-[:CreatesChat]->(:ChatItem)-[:Mentioned]->(u2:User)\n",
        "CREATE (u1)-[:InteractsWith]->(u2);\n",
        "\"\"\"\n",
        "\n",
        "create_interact_query_response = \"\"\"\n",
        "MATCH (u1:User)-[:CreatesChat]->(:ChatItem)-[:ResponseTo]->(:ChatItem)<-[:CreatesChat]-(u2:User)\n",
        "CREATE (u1)-[:InteractsWith]->(u2);\n",
        "\"\"\"\n",
        "\n",
        "conn.query(create_interact_query_mention)\n",
        "conn.query(create_interact_query_response)"
      ],
      "metadata": {
        "colab": {
          "base_uri": "https://localhost:8080/"
        },
        "id": "ViUypY9tT0ck",
        "outputId": "1a75d2b7-f3b7-480b-822d-8090f02a81f0"
      },
      "execution_count": null,
      "outputs": [
        {
          "output_type": "execute_result",
          "data": {
            "text/plain": [
              "[]"
            ]
          },
          "metadata": {},
          "execution_count": 16
        }
      ]
    },
    {
      "cell_type": "code",
      "source": [
        "que = \"MATCH ()-[e]->() RETURN COUNT(e) AS NumberOfEdges\"\n",
        "result = conn.query(que)\n",
        "result"
      ],
      "metadata": {
        "colab": {
          "base_uri": "https://localhost:8080/"
        },
        "id": "X7pBIJZ6UIJu",
        "outputId": "6095ae60-4d81-4f25-fe1e-2714b7251b06"
      },
      "execution_count": null,
      "outputs": [
        {
          "output_type": "execute_result",
          "data": {
            "text/plain": [
              "[{'NumberOfEdges': 167324}]"
            ]
          },
          "metadata": {},
          "execution_count": 17
        }
      ]
    }
  ]
}